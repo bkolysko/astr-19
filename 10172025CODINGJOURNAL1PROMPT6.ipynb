{
 "cells": [
  {
   "cell_type": "markdown",
   "metadata": {},
   "source": [
    "# Functions\n",
    "\n",
    "In this notebook, I'll define two Python functions:\n",
    "- One that returns **sin(x)**\n",
    "- Another that returns **cos(x)**\n",
    "\n",
    "then create a table of `x`, `sin(x)`, and `cos(x)` values for `x` between 0 and 2 (with 1000 evenly spaced points).\n",
    "Finally,  print the first 10 rows of this table to verify our results."
   ],
   "id": "e1a009509bb36316"
  },
  {
   "cell_type": "code",
   "metadata": {
    "ExecuteTime": {
     "end_time": "2025-10-17T22:39:20.164766Z",
     "start_time": "2025-10-17T22:39:20.158605Z"
    }
   },
   "source": [
    "import math\n\n",
    "def my_sin(x):\n",
    "    \"\"\"\n",
    "    Returns the sine of x (in radians).\n",
    "    Uses the math.sin() function from Python's math module.\n",
    "    \"\"\"\n",
    "    return math.sin(x)"
   ],
   "id": "f77b89d6dd9f0e84",
   "outputs": [],
   "execution_count": 4
  },
  {
   "cell_type": "code",
   "metadata": {
    "ExecuteTime": {
     "end_time": "2025-10-17T22:39:24.972411Z",
     "start_time": "2025-10-17T22:39:24.965980Z"
    }
   },
   "source": [
    "def my_cos(x):\n",
    "    \"\"\"\n",
    "    Returns the cosine of x (in radians).\n",
    "    Uses the math.cos() function from Python's math module.\n",
    "    \"\"\"\n",
    "    return math.cos(x)"
   ],
   "id": "2b08a4e449b67fd2",
   "outputs": [],
   "execution_count": 5
  },
  {
   "cell_type": "markdown",
   "metadata": {},
   "source": [
    "##\n",
    "\n",
    "In this cell, we will create a list of 1000 evenly spaced `x` values between 0 and 2.  \n",
    "For each value of `x`, we will compute both `sin(x)` and `cos(x)` using our custom functions."
   ],
   "id": "6366b4273f0b9cbd"
  },
  {
   "cell_type": "code",
   "metadata": {
    "ExecuteTime": {
     "end_time": "2025-10-17T22:39:27.928848Z",
     "start_time": "2025-10-17T22:39:27.920076Z"
    }
   },
   "source": [
    "# Create 1000 evenly spaced values between 0 and 2\n",
    "num_points = 1000\n",
    "x_values = [2 * i / num_points for i in range(num_points + 1)]\n",
    "sin_values = [my_sin(x) for x in x_values]\n",
    "cos_values = [my_cos(x) for x in x_values]"
   ],
   "id": "173f2a9a3988d2a4",
   "outputs": [],
   "execution_count": 6
  },
  {
   "cell_type": "markdown",
   "metadata": {},
   "source": [
    "##\n",
    "\n",
    "In this final cell, we'll use a `for` loop to print the first 10 entries of our table  \n",
    "in neatly aligned columns for easy inspection."
   ],
   "id": "f36e449666c25288"
  },
  {
   "cell_type": "code",
   "metadata": {
    "ExecuteTime": {
     "end_time": "2025-10-17T22:39:30.577309Z",
     "start_time": "2025-10-17T22:39:30.569666Z"
    }
   },
   "source": [
    "print(f\"{'x':>10} {'sin(x)':>15} {'cos(x)':>15}\")\n",
    "print(\"-\" * 45)\n\n",
    "for i in range(10):\n",
    "    print(f\"{x_values[i]:10.5f} {sin_values[i]:15.5f} {cos_values[i]:15.5f}\")"
   ],
   "id": "e535e8b111af7879",
   "outputs": [
    {
     "name": "stdout",
     "output_type": "stream",
     "text": [
      "         x          sin(x)          cos(x)\n",
      "---------------------------------------------\n",
      "   0.00000         0.00000         1.00000\n",
      "   0.00200         0.00200         1.00000\n",
      "   0.00400         0.00400         0.99999\n",
      "   0.00600         0.00600         0.99998\n",
      "   0.00800         0.00800         0.99997\n",
      "   0.01000         0.01000         0.99995\n",
      "   0.01200         0.01200         0.99993\n",
      "   0.01400         0.01400         0.99990\n",
      "   0.01600         0.01600         0.99987\n",
      "   0.01800         0.01800         0.99984\n"
     ]
    }
   ],
   "execution_count": 7
  },
  {
   "metadata": {},
   "cell_type": "code",
   "outputs": [],
   "execution_count": null,
   "source": "",
   "id": "485ac6bc6eecf177"
  }
 ],
 "metadata": {
  "kernelspec": {
   "display_name": "Python 3",
   "language": "python",
   "name": "python3"
  },
  "language_info": {
   "name": "python",
   "version": "3.x"
  }
 },
 "nbformat": 4,
 "nbformat_minor": 5
}

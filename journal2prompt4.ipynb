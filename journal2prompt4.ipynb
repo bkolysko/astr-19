{
 "cells": [
  {
   "cell_type": "code",
   "id": "initial_id",
   "metadata": {
    "collapsed": true,
    "ExecuteTime": {
     "end_time": "2025-11-01T21:32:01.701156Z",
     "start_time": "2025-11-01T21:32:01.445648Z"
    }
   },
   "source": [
    "import numpy as np\n",
    "import matplotlib.pyplot as plt"
   ],
   "outputs": [],
   "execution_count": 1
  },
  {
   "metadata": {
    "ExecuteTime": {
     "end_time": "2025-11-01T21:32:09.730410Z",
     "start_time": "2025-11-01T21:32:09.718508Z"
    }
   },
   "cell_type": "code",
   "source": "data = np.random.normal(loc=0, scale=1, size=1000)",
   "id": "368eb2d3b45270ca",
   "outputs": [],
   "execution_count": 2
  },
  {
   "metadata": {},
   "cell_type": "code",
   "outputs": [],
   "execution_count": null,
   "source": [
    "# Create a histogram with 100 bins\n",
    "plt.figure(figsize=(8, 5))\n",
    "plt.hist(data, bins=100, color='lightgreen', edgecolor='black')\n",
    "\n",
    "# Label axes and add title\n",
    "plt.xlabel('Value')\n",
    "plt.ylabel('Frequency')\n",
    "plt.title('Histogram of 1000 Random Numbers from a Normal Distribution')\n",
    "\n",
    "# Save the figure as a PDF\n",
    "plt.savefig('normal_distribution_histogram.pdf')\n",
    "\n",
    "# Display the plot\n",
    "plt.show()"
   ],
   "id": "1053b4252a4dfb34"
  }
 ],
 "metadata": {
  "kernelspec": {
   "display_name": "Python 3",
   "language": "python",
   "name": "python3"
  },
  "language_info": {
   "codemirror_mode": {
    "name": "ipython",
    "version": 2
   },
   "file_extension": ".py",
   "mimetype": "text/x-python",
   "name": "python",
   "nbconvert_exporter": "python",
   "pygments_lexer": "ipython2",
   "version": "2.7.6"
  }
 },
 "nbformat": 4,
 "nbformat_minor": 5
}

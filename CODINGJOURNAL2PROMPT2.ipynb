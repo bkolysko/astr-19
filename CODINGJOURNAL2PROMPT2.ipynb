{
 "cells": [
  {
   "cell_type": "code",
   "id": "initial_id",
   "metadata": {
    "collapsed": true,
    "ExecuteTime": {
     "end_time": "2025-10-31T06:55:11.933210Z",
     "start_time": "2025-10-31T06:55:11.256087Z"
    }
   },
   "source": [
    "import numpy as np\n",
    "import matplotlib.pyplot as plt"
   ],
   "outputs": [],
   "execution_count": 1
  },
  {
   "metadata": {
    "ExecuteTime": {
     "end_time": "2025-10-31T06:56:42.368596Z",
     "start_time": "2025-10-31T06:56:42.361496Z"
    }
   },
   "cell_type": "code",
   "source": "x = np.linspace(0 , 1, 100)",
   "id": "a1dfef4bcbec4380",
   "outputs": [],
   "execution_count": 2
  },
  {
   "metadata": {},
   "cell_type": "markdown",
   "source": "",
   "id": "9073cdea08c65066"
  },
  {
   "metadata": {
    "ExecuteTime": {
     "end_time": "2025-11-01T21:26:59.672399Z",
     "start_time": "2025-11-01T21:26:59.666784Z"
    }
   },
   "cell_type": "code",
   "source": [
    "def f_sin(x):\n",
    "    return np.sin(2 * np.pi * x)\n",
    "\n",
    "def f_cos(x):\n",
    "    return np.cos(2 * np.pi * x)"
   ],
   "id": "250221ec4e250b55",
   "outputs": [],
   "execution_count": 3
  },
  {
   "metadata": {},
   "cell_type": "code",
   "outputs": [],
   "execution_count": null,
   "source": [
    "# Create a figure with 1 row and 2 columns of subplots\n",
    "fig, (ax1, ax2) = plt.subplots(1, 2, figsize=(10, 4))\n",
    "\n",
    "# Plot sin(x)\n",
    "ax1.plot(x, f_sin(x), color='blue')\n",
    "ax1.set_title('sin(x)')\n",
    "ax1.set_xlabel('x')\n",
    "ax1.set_ylabel('sin(x)')\n",
    "\n",
    "# Plot cos(x)\n",
    "ax2.plot(x, f_cos(x), color='red')\n",
    "ax2.set_title('cos(x)')\n",
    "ax2.set_xlabel('x')\n",
    "ax2.set_ylabel('cos(x)')\n",
    "\n",
    "# Adjust layout and save as PDF\n",
    "plt.tight_layout()\n",
    "plt.savefig('sin_cos_plots.pdf')\n",
    "\n",
    "# Display the figure\n",
    "plt.show()"
   ],
   "id": "50e7d5661454b4f6"
  }
 ],
 "metadata": {
  "kernelspec": {
   "display_name": "Python 3",
   "language": "python",
   "name": "python3"
  },
  "language_info": {
   "codemirror_mode": {
    "name": "ipython",
    "version": 2
   },
   "file_extension": ".py",
   "mimetype": "text/x-python",
   "name": "python",
   "nbconvert_exporter": "python",
   "pygments_lexer": "ipython2",
   "version": "2.7.6"
  }
 },
 "nbformat": 4,
 "nbformat_minor": 5
}

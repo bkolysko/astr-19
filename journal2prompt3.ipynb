{
 "cells": [
  {
   "cell_type": "code",
   "id": "initial_id",
   "metadata": {
    "collapsed": true,
    "ExecuteTime": {
     "end_time": "2025-11-01T21:29:10.248399Z",
     "start_time": "2025-11-01T21:29:09.891043Z"
    }
   },
   "source": [
    "import numpy as np\n",
    "import matplotlib.pyplot as plt"
   ],
   "outputs": [],
   "execution_count": 1
  },
  {
   "metadata": {
    "ExecuteTime": {
     "end_time": "2025-11-01T21:29:15.536334Z",
     "start_time": "2025-11-01T21:29:15.449521Z"
    }
   },
   "cell_type": "code",
   "source": "data = np.random.uniform(0, 1, 1000)",
   "id": "a645e4ededdc056e",
   "outputs": [],
   "execution_count": 2
  },
  {
   "metadata": {},
   "cell_type": "code",
   "outputs": [],
   "execution_count": null,
   "source": [
    "# Create a histogram with 100 bins\n",
    "plt.figure(figsize=(8, 5))\n",
    "plt.hist(data, bins=100, color='skyblue', edgecolor='black')\n",
    "\n",
    "# Label axes and title\n",
    "plt.xlabel('Value')\n",
    "plt.ylabel('Frequency')\n",
    "plt.title('Histogram of 1000 Uniformly Distributed Random Numbers')\n",
    "\n",
    "# Save the figure as a PDF\n",
    "plt.savefig('uniform_random_histogram.pdf')\n",
    "\n",
    "# Display the plot\n",
    "plt.show()"
   ],
   "id": "f357d182084527d"
  }
 ],
 "metadata": {
  "kernelspec": {
   "display_name": "Python 3",
   "language": "python",
   "name": "python3"
  },
  "language_info": {
   "codemirror_mode": {
    "name": "ipython",
    "version": 2
   },
   "file_extension": ".py",
   "mimetype": "text/x-python",
   "name": "python",
   "nbconvert_exporter": "python",
   "pygments_lexer": "ipython2",
   "version": "2.7.6"
  }
 },
 "nbformat": 4,
 "nbformat_minor": 5
}
